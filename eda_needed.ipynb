{
 "cells": [
  {
   "cell_type": "code",
   "execution_count": 1,
   "id": "2d76e275-b4b1-4268-9140-440682f8c921",
   "metadata": {},
   "outputs": [],
   "source": [
    "import os\n",
    "\n",
    "import numpy as np\n",
    "import pandas as pd\n",
    "import seaborn as sns\n",
    "\n",
    "pd.set_option('display.max_rows', 100)"
   ]
  },
  {
   "cell_type": "code",
   "execution_count": 2,
   "id": "96d76228-373d-4bc2-9b23-80a5376a2061",
   "metadata": {},
   "outputs": [],
   "source": [
    "DATA_PATH = os.path.join(\"data\", \"csse_covid_19_daily_reports\")"
   ]
  },
  {
   "cell_type": "code",
   "execution_count": 3,
   "id": "96a08d9e-08b0-4583-94a5-d5782d2917f5",
   "metadata": {},
   "outputs": [],
   "source": [
    "available_files = os.listdir(DATA_PATH)"
   ]
  },
  {
   "cell_type": "code",
   "execution_count": 4,
   "id": "3369383e-fa99-4cbc-b547-1c7c41cd4fe0",
   "metadata": {},
   "outputs": [],
   "source": [
    "def key_to_sort_by_date(filename: str):\n",
    "    if filename.endswith(\".csv\"):\n",
    "        filename = filename.replace(\".csv\", \"\")\n",
    "        month, day, year = filename.split(\"-\")\n",
    "        return year+month+day\n",
    "    else:\n",
    "        return filename"
   ]
  },
  {
   "cell_type": "code",
   "execution_count": 5,
   "id": "02eac20a-9350-4ec2-83ec-677c959ce965",
   "metadata": {},
   "outputs": [
    {
     "name": "stdout",
     "output_type": "stream",
     "text": [
      "01\n",
      "21\n",
      "2022\n",
      "20220121\n"
     ]
    }
   ],
   "source": [
    "filename = \"01-21-2022.csv\"\n",
    "filename = filename.replace(\".csv\", \"\")\n",
    "month, day, year = filename.split(\"-\")\n",
    "print(month)\n",
    "print(day)\n",
    "print(year)\n",
    "print(year+month+day)"
   ]
  },
  {
   "cell_type": "code",
   "execution_count": 6,
   "id": "29285c63-4a54-4f13-9dcb-d1fe68cc7de2",
   "metadata": {},
   "outputs": [],
   "source": [
    "available_files.sort(key=lambda x: key_to_sort_by_date(x))"
   ]
  },
  {
   "cell_type": "code",
   "execution_count": 7,
   "id": "692c1b9c-21ce-425e-8fe4-4fb858d74cad",
   "metadata": {},
   "outputs": [
    {
     "data": {
      "text/plain": [
       "['.gitignore',\n",
       " '01-22-2020.csv',\n",
       " '01-23-2020.csv',\n",
       " '01-24-2020.csv',\n",
       " '01-25-2020.csv']"
      ]
     },
     "execution_count": 7,
     "metadata": {},
     "output_type": "execute_result"
    }
   ],
   "source": [
    "available_files[:5]"
   ]
  },
  {
   "cell_type": "code",
   "execution_count": 8,
   "id": "1742daef-9dd5-406d-8b26-314b99efbba3",
   "metadata": {},
   "outputs": [
    {
     "data": {
      "text/plain": [
       "['12-08-2022.csv',\n",
       " '12-09-2022.csv',\n",
       " '12-10-2022.csv',\n",
       " '12-11-2022.csv',\n",
       " 'README.md']"
      ]
     },
     "execution_count": 8,
     "metadata": {},
     "output_type": "execute_result"
    }
   ],
   "source": [
    "available_files[len(available_files) - 5:]"
   ]
  },
  {
   "cell_type": "markdown",
   "id": "ccf42ab3-c06c-42e1-8a64-09a2f3d81ce1",
   "metadata": {},
   "source": [
    "so we have data from <b>01-22-2020</b> to <b>12-08-2022</b>\n",
    "\n",
    "in this task only first 6 month needed\n",
    "\n",
    "so, lets take all the days starting <b>01-22-2020</b> and ending <b>06-22-2020</b>"
   ]
  },
  {
   "cell_type": "markdown",
   "id": "d8b6ed72-c596-49b2-81ce-b3f1ad9e8340",
   "metadata": {},
   "source": [
    "lets take a look into a single file structure"
   ]
  },
  {
   "cell_type": "code",
   "execution_count": 9,
   "id": "83397c18-ef0c-41c7-af45-9c02709ac4b4",
   "metadata": {},
   "outputs": [
    {
     "data": {
      "text/html": [
       "<div>\n",
       "<style scoped>\n",
       "    .dataframe tbody tr th:only-of-type {\n",
       "        vertical-align: middle;\n",
       "    }\n",
       "\n",
       "    .dataframe tbody tr th {\n",
       "        vertical-align: top;\n",
       "    }\n",
       "\n",
       "    .dataframe thead th {\n",
       "        text-align: right;\n",
       "    }\n",
       "</style>\n",
       "<table border=\"1\" class=\"dataframe\">\n",
       "  <thead>\n",
       "    <tr style=\"text-align: right;\">\n",
       "      <th></th>\n",
       "      <th>Province/State</th>\n",
       "      <th>Country/Region</th>\n",
       "      <th>Last Update</th>\n",
       "      <th>Confirmed</th>\n",
       "      <th>Deaths</th>\n",
       "      <th>Recovered</th>\n",
       "    </tr>\n",
       "  </thead>\n",
       "  <tbody>\n",
       "    <tr>\n",
       "      <th>0</th>\n",
       "      <td>Anhui</td>\n",
       "      <td>Mainland China</td>\n",
       "      <td>1/22/2020 17:00</td>\n",
       "      <td>1.0</td>\n",
       "      <td>NaN</td>\n",
       "      <td>NaN</td>\n",
       "    </tr>\n",
       "    <tr>\n",
       "      <th>1</th>\n",
       "      <td>Beijing</td>\n",
       "      <td>Mainland China</td>\n",
       "      <td>1/22/2020 17:00</td>\n",
       "      <td>14.0</td>\n",
       "      <td>NaN</td>\n",
       "      <td>NaN</td>\n",
       "    </tr>\n",
       "    <tr>\n",
       "      <th>2</th>\n",
       "      <td>Chongqing</td>\n",
       "      <td>Mainland China</td>\n",
       "      <td>1/22/2020 17:00</td>\n",
       "      <td>6.0</td>\n",
       "      <td>NaN</td>\n",
       "      <td>NaN</td>\n",
       "    </tr>\n",
       "    <tr>\n",
       "      <th>3</th>\n",
       "      <td>Fujian</td>\n",
       "      <td>Mainland China</td>\n",
       "      <td>1/22/2020 17:00</td>\n",
       "      <td>1.0</td>\n",
       "      <td>NaN</td>\n",
       "      <td>NaN</td>\n",
       "    </tr>\n",
       "    <tr>\n",
       "      <th>4</th>\n",
       "      <td>Gansu</td>\n",
       "      <td>Mainland China</td>\n",
       "      <td>1/22/2020 17:00</td>\n",
       "      <td>NaN</td>\n",
       "      <td>NaN</td>\n",
       "      <td>NaN</td>\n",
       "    </tr>\n",
       "  </tbody>\n",
       "</table>\n",
       "</div>"
      ],
      "text/plain": [
       "  Province/State  Country/Region      Last Update  Confirmed  Deaths  \\\n",
       "0          Anhui  Mainland China  1/22/2020 17:00        1.0     NaN   \n",
       "1        Beijing  Mainland China  1/22/2020 17:00       14.0     NaN   \n",
       "2      Chongqing  Mainland China  1/22/2020 17:00        6.0     NaN   \n",
       "3         Fujian  Mainland China  1/22/2020 17:00        1.0     NaN   \n",
       "4          Gansu  Mainland China  1/22/2020 17:00        NaN     NaN   \n",
       "\n",
       "   Recovered  \n",
       "0        NaN  \n",
       "1        NaN  \n",
       "2        NaN  \n",
       "3        NaN  \n",
       "4        NaN  "
      ]
     },
     "execution_count": 9,
     "metadata": {},
     "output_type": "execute_result"
    }
   ],
   "source": [
    "df = pd.read_csv(os.path.join(DATA_PATH, \"01-22-2020.csv\"))\n",
    "df.head(5)"
   ]
  },
  {
   "cell_type": "code",
   "execution_count": 10,
   "id": "75ef2ecc-c092-4d3a-802c-decb140702c1",
   "metadata": {},
   "outputs": [
    {
     "data": {
      "text/html": [
       "<div>\n",
       "<style scoped>\n",
       "    .dataframe tbody tr th:only-of-type {\n",
       "        vertical-align: middle;\n",
       "    }\n",
       "\n",
       "    .dataframe tbody tr th {\n",
       "        vertical-align: top;\n",
       "    }\n",
       "\n",
       "    .dataframe thead th {\n",
       "        text-align: right;\n",
       "    }\n",
       "</style>\n",
       "<table border=\"1\" class=\"dataframe\">\n",
       "  <thead>\n",
       "    <tr style=\"text-align: right;\">\n",
       "      <th></th>\n",
       "      <th>Province/State</th>\n",
       "      <th>Country/Region</th>\n",
       "      <th>Last Update</th>\n",
       "      <th>Confirmed</th>\n",
       "      <th>Deaths</th>\n",
       "      <th>Recovered</th>\n",
       "    </tr>\n",
       "  </thead>\n",
       "  <tbody>\n",
       "    <tr>\n",
       "      <th>61</th>\n",
       "      <td>NaN</td>\n",
       "      <td>Winter Olympics 2022</td>\n",
       "      <td>1/22/2020 17:00</td>\n",
       "      <td>0.0</td>\n",
       "      <td>0.0</td>\n",
       "      <td>0.0</td>\n",
       "    </tr>\n",
       "    <tr>\n",
       "      <th>62</th>\n",
       "      <td>NaN</td>\n",
       "      <td>Antarctica</td>\n",
       "      <td>1/22/2020 17:00</td>\n",
       "      <td>0.0</td>\n",
       "      <td>0.0</td>\n",
       "      <td>0.0</td>\n",
       "    </tr>\n",
       "    <tr>\n",
       "      <th>63</th>\n",
       "      <td>Jersey</td>\n",
       "      <td>United Kingdom</td>\n",
       "      <td>1/22/2020 17:00</td>\n",
       "      <td>0.0</td>\n",
       "      <td>0.0</td>\n",
       "      <td>0.0</td>\n",
       "    </tr>\n",
       "    <tr>\n",
       "      <th>64</th>\n",
       "      <td>Guernsey</td>\n",
       "      <td>United Kingdom</td>\n",
       "      <td>1/22/2020 17:00</td>\n",
       "      <td>0.0</td>\n",
       "      <td>0.0</td>\n",
       "      <td>0.0</td>\n",
       "    </tr>\n",
       "    <tr>\n",
       "      <th>65</th>\n",
       "      <td>NaN</td>\n",
       "      <td>Korea, North</td>\n",
       "      <td>1/22/2020 17:00</td>\n",
       "      <td>0.0</td>\n",
       "      <td>0.0</td>\n",
       "      <td>0.0</td>\n",
       "    </tr>\n",
       "    <tr>\n",
       "      <th>66</th>\n",
       "      <td>Unknown</td>\n",
       "      <td>Ukraine</td>\n",
       "      <td>1/22/2020 17:00</td>\n",
       "      <td>0.0</td>\n",
       "      <td>0.0</td>\n",
       "      <td>0.0</td>\n",
       "    </tr>\n",
       "    <tr>\n",
       "      <th>67</th>\n",
       "      <td>England</td>\n",
       "      <td>United Kingdom</td>\n",
       "      <td>1/22/2020 17:00</td>\n",
       "      <td>0.0</td>\n",
       "      <td>0.0</td>\n",
       "      <td>0.0</td>\n",
       "    </tr>\n",
       "    <tr>\n",
       "      <th>68</th>\n",
       "      <td>Northern Ireland</td>\n",
       "      <td>United Kingdom</td>\n",
       "      <td>1/22/2020 17:00</td>\n",
       "      <td>0.0</td>\n",
       "      <td>0.0</td>\n",
       "      <td>0.0</td>\n",
       "    </tr>\n",
       "    <tr>\n",
       "      <th>69</th>\n",
       "      <td>Scotland</td>\n",
       "      <td>United Kingdom</td>\n",
       "      <td>1/22/2020 17:00</td>\n",
       "      <td>0.0</td>\n",
       "      <td>0.0</td>\n",
       "      <td>0.0</td>\n",
       "    </tr>\n",
       "    <tr>\n",
       "      <th>70</th>\n",
       "      <td>Wales</td>\n",
       "      <td>United Kingdom</td>\n",
       "      <td>1/22/2020 17:00</td>\n",
       "      <td>0.0</td>\n",
       "      <td>0.0</td>\n",
       "      <td>0.0</td>\n",
       "    </tr>\n",
       "    <tr>\n",
       "      <th>71</th>\n",
       "      <td>Unknown</td>\n",
       "      <td>United Kingdom</td>\n",
       "      <td>1/22/2020 17:00</td>\n",
       "      <td>0.0</td>\n",
       "      <td>0.0</td>\n",
       "      <td>0.0</td>\n",
       "    </tr>\n",
       "    <tr>\n",
       "      <th>72</th>\n",
       "      <td>NaN</td>\n",
       "      <td>Nauru</td>\n",
       "      <td>1/22/2020 17:00</td>\n",
       "      <td>0.0</td>\n",
       "      <td>0.0</td>\n",
       "      <td>0.0</td>\n",
       "    </tr>\n",
       "    <tr>\n",
       "      <th>73</th>\n",
       "      <td>Niue</td>\n",
       "      <td>New Zealand</td>\n",
       "      <td>1/22/2020 17:00</td>\n",
       "      <td>0.0</td>\n",
       "      <td>0.0</td>\n",
       "      <td>0.0</td>\n",
       "    </tr>\n",
       "    <tr>\n",
       "      <th>74</th>\n",
       "      <td>NaN</td>\n",
       "      <td>Tuvalu</td>\n",
       "      <td>1/22/2020 17:00</td>\n",
       "      <td>0.0</td>\n",
       "      <td>0.0</td>\n",
       "      <td>0.0</td>\n",
       "    </tr>\n",
       "    <tr>\n",
       "      <th>75</th>\n",
       "      <td>Pitcairn Islands</td>\n",
       "      <td>United Kingdom</td>\n",
       "      <td>1/22/2020 17:00</td>\n",
       "      <td>0.0</td>\n",
       "      <td>0.0</td>\n",
       "      <td>0.0</td>\n",
       "    </tr>\n",
       "  </tbody>\n",
       "</table>\n",
       "</div>"
      ],
      "text/plain": [
       "      Province/State        Country/Region      Last Update  Confirmed  \\\n",
       "61               NaN  Winter Olympics 2022  1/22/2020 17:00        0.0   \n",
       "62               NaN            Antarctica  1/22/2020 17:00        0.0   \n",
       "63            Jersey        United Kingdom  1/22/2020 17:00        0.0   \n",
       "64          Guernsey        United Kingdom  1/22/2020 17:00        0.0   \n",
       "65               NaN          Korea, North  1/22/2020 17:00        0.0   \n",
       "66           Unknown               Ukraine  1/22/2020 17:00        0.0   \n",
       "67           England        United Kingdom  1/22/2020 17:00        0.0   \n",
       "68  Northern Ireland        United Kingdom  1/22/2020 17:00        0.0   \n",
       "69          Scotland        United Kingdom  1/22/2020 17:00        0.0   \n",
       "70             Wales        United Kingdom  1/22/2020 17:00        0.0   \n",
       "71           Unknown        United Kingdom  1/22/2020 17:00        0.0   \n",
       "72               NaN                 Nauru  1/22/2020 17:00        0.0   \n",
       "73              Niue           New Zealand  1/22/2020 17:00        0.0   \n",
       "74               NaN                Tuvalu  1/22/2020 17:00        0.0   \n",
       "75  Pitcairn Islands        United Kingdom  1/22/2020 17:00        0.0   \n",
       "\n",
       "    Deaths  Recovered  \n",
       "61     0.0        0.0  \n",
       "62     0.0        0.0  \n",
       "63     0.0        0.0  \n",
       "64     0.0        0.0  \n",
       "65     0.0        0.0  \n",
       "66     0.0        0.0  \n",
       "67     0.0        0.0  \n",
       "68     0.0        0.0  \n",
       "69     0.0        0.0  \n",
       "70     0.0        0.0  \n",
       "71     0.0        0.0  \n",
       "72     0.0        0.0  \n",
       "73     0.0        0.0  \n",
       "74     0.0        0.0  \n",
       "75     0.0        0.0  "
      ]
     },
     "execution_count": 10,
     "metadata": {},
     "output_type": "execute_result"
    }
   ],
   "source": [
    "df.tail(15)"
   ]
  },
  {
   "cell_type": "code",
   "execution_count": null,
   "id": "e8496763-02c6-40d4-a0be-2302aa16c6ff",
   "metadata": {},
   "outputs": [],
   "source": []
  },
  {
   "cell_type": "markdown",
   "id": "aab83ea0-b603-4bb8-9d25-f0ca9bf289a2",
   "metadata": {},
   "source": [
    "### After data_merge.py was executed!!!"
   ]
  },
  {
   "cell_type": "code",
   "execution_count": null,
   "id": "a70f331c-57dc-4eea-8e4b-919ee5fe556e",
   "metadata": {},
   "outputs": [],
   "source": []
  },
  {
   "cell_type": "markdown",
   "id": "60e5921a-9efd-4b14-a5a5-fab6d3bea1a1",
   "metadata": {},
   "source": [
    "## FLAW 1"
   ]
  },
  {
   "cell_type": "code",
   "execution_count": 11,
   "id": "a6e4d976-26d3-48b7-8467-1a13f1ab58b8",
   "metadata": {},
   "outputs": [],
   "source": [
    "CNT_DATA_PATH = os.path.join(\"data\", \"countries_data\")"
   ]
  },
  {
   "cell_type": "code",
   "execution_count": 12,
   "id": "8b6ce88e-7d81-45c7-be05-b93a708535a2",
   "metadata": {},
   "outputs": [],
   "source": [
    "files_in_dir = os.listdir(CNT_DATA_PATH)"
   ]
  },
  {
   "cell_type": "code",
   "execution_count": 13,
   "id": "168f3cd9-5a32-477b-b33c-baf961fda934",
   "metadata": {},
   "outputs": [
    {
     "data": {
      "text/plain": [
       "['French Polynesia, France.csv',\n",
       " 'French Guiana, France.csv',\n",
       " 'Mayotte, France.csv',\n",
       " 'Reunion, France.csv',\n",
       " 'St Martin, France.csv',\n",
       " 'France, France.csv',\n",
       " ',,France.csv',\n",
       " 'Saint Pierre and Miquelon, France.csv',\n",
       " 'Martinique, France.csv',\n",
       " 'France.csv',\n",
       " 'Fench Guiana, France.csv',\n",
       " 'Guadeloupe, France.csv',\n",
       " 'Saint Barthelemy, France.csv',\n",
       " 'New Caledonia, France.csv']"
      ]
     },
     "execution_count": 13,
     "metadata": {},
     "output_type": "execute_result"
    }
   ],
   "source": [
    "[f for f in files_in_dir if \"france\" in f.lower()]"
   ]
  },
  {
   "cell_type": "code",
   "execution_count": 14,
   "id": "7b55e002-f256-4e17-a8c3-ba2eda99c5ff",
   "metadata": {},
   "outputs": [
    {
     "data": {
      "text/plain": [
       "['03-11-2020',\n",
       " '03-12-2020',\n",
       " '03-13-2020',\n",
       " '03-14-2020',\n",
       " '03-15-2020',\n",
       " '03-16-2020',\n",
       " '03-17-2020',\n",
       " '03-18-2020',\n",
       " '03-19-2020',\n",
       " '03-20-2020',\n",
       " '03-21-2020']"
      ]
     },
     "execution_count": 14,
     "metadata": {},
     "output_type": "execute_result"
    }
   ],
   "source": [
    "df1 = pd.read_csv(CNT_DATA_PATH+\"/France, France.csv\")\n",
    "df1.date.to_list()"
   ]
  },
  {
   "cell_type": "code",
   "execution_count": 15,
   "id": "4d5670cb-9e2d-4d83-9cab-5ee47649a192",
   "metadata": {},
   "outputs": [
    {
     "data": {
      "text/plain": [
       "['04-09-2020', '04-10-2020', '04-11-2020']"
      ]
     },
     "execution_count": 15,
     "metadata": {},
     "output_type": "execute_result"
    }
   ],
   "source": [
    "df2 = pd.read_csv(CNT_DATA_PATH+\"/,,France.csv\")\n",
    "df2.date.to_list()"
   ]
  },
  {
   "cell_type": "code",
   "execution_count": 16,
   "id": "bfde117f-2d63-42d6-898e-5aa13a109d0f",
   "metadata": {},
   "outputs": [
    {
     "data": {
      "text/plain": [
       "['01-24-2020',\n",
       " '01-25-2020',\n",
       " '01-26-2020',\n",
       " '01-27-2020',\n",
       " '01-28-2020',\n",
       " '01-29-2020',\n",
       " '01-30-2020',\n",
       " '01-31-2020',\n",
       " '02-01-2020',\n",
       " '02-02-2020',\n",
       " '02-03-2020',\n",
       " '02-04-2020',\n",
       " '02-05-2020',\n",
       " '02-06-2020',\n",
       " '02-07-2020',\n",
       " '02-08-2020',\n",
       " '02-09-2020',\n",
       " '02-10-2020',\n",
       " '02-11-2020',\n",
       " '02-12-2020',\n",
       " '02-13-2020',\n",
       " '02-14-2020',\n",
       " '02-15-2020',\n",
       " '02-16-2020',\n",
       " '02-17-2020',\n",
       " '02-18-2020',\n",
       " '02-19-2020',\n",
       " '02-20-2020',\n",
       " '02-21-2020',\n",
       " '02-22-2020',\n",
       " '02-23-2020',\n",
       " '02-24-2020',\n",
       " '02-25-2020',\n",
       " '02-26-2020',\n",
       " '02-27-2020',\n",
       " '02-28-2020',\n",
       " '02-29-2020',\n",
       " '03-01-2020',\n",
       " '03-02-2020',\n",
       " '03-03-2020',\n",
       " '03-04-2020',\n",
       " '03-05-2020',\n",
       " '03-06-2020',\n",
       " '03-07-2020',\n",
       " '03-08-2020',\n",
       " '03-09-2020',\n",
       " '03-10-2020',\n",
       " '03-22-2020',\n",
       " '03-24-2020',\n",
       " '03-25-2020',\n",
       " '03-26-2020',\n",
       " '03-27-2020',\n",
       " '03-28-2020',\n",
       " '03-29-2020',\n",
       " '03-30-2020',\n",
       " '03-31-2020',\n",
       " '04-01-2020',\n",
       " '04-02-2020',\n",
       " '04-03-2020',\n",
       " '04-04-2020',\n",
       " '04-05-2020',\n",
       " '04-06-2020',\n",
       " '04-07-2020',\n",
       " '04-08-2020',\n",
       " '04-12-2020',\n",
       " '04-13-2020',\n",
       " '04-14-2020',\n",
       " '04-15-2020',\n",
       " '04-16-2020',\n",
       " '04-17-2020',\n",
       " '04-18-2020',\n",
       " '04-19-2020',\n",
       " '04-20-2020',\n",
       " '04-21-2020',\n",
       " '04-22-2020',\n",
       " '04-23-2020',\n",
       " '04-24-2020',\n",
       " '04-25-2020',\n",
       " '04-26-2020',\n",
       " '04-27-2020',\n",
       " '04-28-2020',\n",
       " '04-29-2020',\n",
       " '04-30-2020',\n",
       " '05-01-2020',\n",
       " '05-02-2020',\n",
       " '05-03-2020',\n",
       " '05-04-2020',\n",
       " '05-05-2020',\n",
       " '05-06-2020',\n",
       " '05-07-2020',\n",
       " '05-08-2020',\n",
       " '05-09-2020',\n",
       " '05-10-2020',\n",
       " '05-11-2020',\n",
       " '05-12-2020',\n",
       " '05-13-2020',\n",
       " '05-14-2020',\n",
       " '05-15-2020',\n",
       " '05-16-2020',\n",
       " '05-17-2020',\n",
       " '05-18-2020',\n",
       " '05-19-2020',\n",
       " '05-20-2020',\n",
       " '05-21-2020',\n",
       " '05-22-2020',\n",
       " '05-23-2020',\n",
       " '05-24-2020',\n",
       " '05-25-2020',\n",
       " '05-26-2020',\n",
       " '05-27-2020',\n",
       " '05-28-2020',\n",
       " '05-29-2020',\n",
       " '05-30-2020',\n",
       " '05-31-2020',\n",
       " '06-01-2020',\n",
       " '06-02-2020',\n",
       " '06-03-2020',\n",
       " '06-04-2020',\n",
       " '06-05-2020',\n",
       " '06-06-2020',\n",
       " '06-07-2020',\n",
       " '06-08-2020',\n",
       " '06-09-2020',\n",
       " '06-10-2020',\n",
       " '06-11-2020',\n",
       " '06-12-2020',\n",
       " '06-13-2020',\n",
       " '06-14-2020',\n",
       " '06-15-2020',\n",
       " '06-16-2020',\n",
       " '06-17-2020',\n",
       " '06-18-2020',\n",
       " '06-19-2020',\n",
       " '06-20-2020',\n",
       " '06-21-2020']"
      ]
     },
     "execution_count": 16,
     "metadata": {},
     "output_type": "execute_result"
    }
   ],
   "source": [
    "df3 = pd.read_csv(CNT_DATA_PATH+\"/France.csv\")\n",
    "df3.date.to_list()"
   ]
  },
  {
   "cell_type": "code",
   "execution_count": null,
   "id": "9442a282-a40e-4c35-ab05-61a8ce4e3f73",
   "metadata": {},
   "outputs": [],
   "source": []
  },
  {
   "cell_type": "code",
   "execution_count": 17,
   "id": "24d72318-18c3-4ea4-a487-1f723a174c3f",
   "metadata": {},
   "outputs": [],
   "source": [
    "import flaws_correction as fc"
   ]
  },
  {
   "cell_type": "code",
   "execution_count": 18,
   "id": "65b15391-74e1-418f-be01-9d74f13f71a5",
   "metadata": {},
   "outputs": [
    {
     "data": {
      "text/html": [
       "<div>\n",
       "<style scoped>\n",
       "    .dataframe tbody tr th:only-of-type {\n",
       "        vertical-align: middle;\n",
       "    }\n",
       "\n",
       "    .dataframe tbody tr th {\n",
       "        vertical-align: top;\n",
       "    }\n",
       "\n",
       "    .dataframe thead th {\n",
       "        text-align: right;\n",
       "    }\n",
       "</style>\n",
       "<table border=\"1\" class=\"dataframe\">\n",
       "  <thead>\n",
       "    <tr style=\"text-align: right;\">\n",
       "      <th></th>\n",
       "      <th>Confirmed</th>\n",
       "      <th>Deaths</th>\n",
       "      <th>Recovered</th>\n",
       "      <th>Active</th>\n",
       "      <th>Incident_Rate</th>\n",
       "      <th>Case_Fatality_Ratio</th>\n",
       "      <th>date</th>\n",
       "    </tr>\n",
       "  </thead>\n",
       "  <tbody>\n",
       "    <tr>\n",
       "      <th>0</th>\n",
       "      <td>2.0</td>\n",
       "      <td>NaN</td>\n",
       "      <td>NaN</td>\n",
       "      <td>NaN</td>\n",
       "      <td>NaN</td>\n",
       "      <td>NaN</td>\n",
       "      <td>01-24-2020</td>\n",
       "    </tr>\n",
       "    <tr>\n",
       "      <th>1</th>\n",
       "      <td>3.0</td>\n",
       "      <td>NaN</td>\n",
       "      <td>NaN</td>\n",
       "      <td>NaN</td>\n",
       "      <td>NaN</td>\n",
       "      <td>NaN</td>\n",
       "      <td>01-25-2020</td>\n",
       "    </tr>\n",
       "    <tr>\n",
       "      <th>2</th>\n",
       "      <td>3.0</td>\n",
       "      <td>NaN</td>\n",
       "      <td>NaN</td>\n",
       "      <td>NaN</td>\n",
       "      <td>NaN</td>\n",
       "      <td>NaN</td>\n",
       "      <td>01-26-2020</td>\n",
       "    </tr>\n",
       "    <tr>\n",
       "      <th>3</th>\n",
       "      <td>3.0</td>\n",
       "      <td>NaN</td>\n",
       "      <td>NaN</td>\n",
       "      <td>NaN</td>\n",
       "      <td>NaN</td>\n",
       "      <td>NaN</td>\n",
       "      <td>01-27-2020</td>\n",
       "    </tr>\n",
       "    <tr>\n",
       "      <th>4</th>\n",
       "      <td>4.0</td>\n",
       "      <td>NaN</td>\n",
       "      <td>NaN</td>\n",
       "      <td>NaN</td>\n",
       "      <td>NaN</td>\n",
       "      <td>NaN</td>\n",
       "      <td>01-28-2020</td>\n",
       "    </tr>\n",
       "    <tr>\n",
       "      <th>...</th>\n",
       "      <td>...</td>\n",
       "      <td>...</td>\n",
       "      <td>...</td>\n",
       "      <td>...</td>\n",
       "      <td>...</td>\n",
       "      <td>...</td>\n",
       "      <td>...</td>\n",
       "    </tr>\n",
       "    <tr>\n",
       "      <th>144</th>\n",
       "      <td>192628.0</td>\n",
       "      <td>29512.0</td>\n",
       "      <td>70223.0</td>\n",
       "      <td>92893.0</td>\n",
       "      <td>NaN</td>\n",
       "      <td>NaN</td>\n",
       "      <td>06-17-2020</td>\n",
       "    </tr>\n",
       "    <tr>\n",
       "      <th>145</th>\n",
       "      <td>192948.0</td>\n",
       "      <td>29540.0</td>\n",
       "      <td>70322.0</td>\n",
       "      <td>93086.0</td>\n",
       "      <td>NaN</td>\n",
       "      <td>NaN</td>\n",
       "      <td>06-18-2020</td>\n",
       "    </tr>\n",
       "    <tr>\n",
       "      <th>146</th>\n",
       "      <td>193493.0</td>\n",
       "      <td>29554.0</td>\n",
       "      <td>70496.0</td>\n",
       "      <td>93443.0</td>\n",
       "      <td>NaN</td>\n",
       "      <td>NaN</td>\n",
       "      <td>06-19-2020</td>\n",
       "    </tr>\n",
       "    <tr>\n",
       "      <th>147</th>\n",
       "      <td>193907.0</td>\n",
       "      <td>29570.0</td>\n",
       "      <td>70641.0</td>\n",
       "      <td>93696.0</td>\n",
       "      <td>NaN</td>\n",
       "      <td>NaN</td>\n",
       "      <td>06-20-2020</td>\n",
       "    </tr>\n",
       "    <tr>\n",
       "      <th>148</th>\n",
       "      <td>193971.0</td>\n",
       "      <td>29575.0</td>\n",
       "      <td>70661.0</td>\n",
       "      <td>93735.0</td>\n",
       "      <td>NaN</td>\n",
       "      <td>NaN</td>\n",
       "      <td>06-21-2020</td>\n",
       "    </tr>\n",
       "  </tbody>\n",
       "</table>\n",
       "<p>149 rows × 7 columns</p>\n",
       "</div>"
      ],
      "text/plain": [
       "     Confirmed   Deaths  Recovered   Active  Incident_Rate  \\\n",
       "0          2.0      NaN        NaN      NaN            NaN   \n",
       "1          3.0      NaN        NaN      NaN            NaN   \n",
       "2          3.0      NaN        NaN      NaN            NaN   \n",
       "3          3.0      NaN        NaN      NaN            NaN   \n",
       "4          4.0      NaN        NaN      NaN            NaN   \n",
       "..         ...      ...        ...      ...            ...   \n",
       "144   192628.0  29512.0    70223.0  92893.0            NaN   \n",
       "145   192948.0  29540.0    70322.0  93086.0            NaN   \n",
       "146   193493.0  29554.0    70496.0  93443.0            NaN   \n",
       "147   193907.0  29570.0    70641.0  93696.0            NaN   \n",
       "148   193971.0  29575.0    70661.0  93735.0            NaN   \n",
       "\n",
       "     Case_Fatality_Ratio        date  \n",
       "0                    NaN  01-24-2020  \n",
       "1                    NaN  01-25-2020  \n",
       "2                    NaN  01-26-2020  \n",
       "3                    NaN  01-27-2020  \n",
       "4                    NaN  01-28-2020  \n",
       "..                   ...         ...  \n",
       "144                  NaN  06-17-2020  \n",
       "145                  NaN  06-18-2020  \n",
       "146                  NaN  06-19-2020  \n",
       "147                  NaN  06-20-2020  \n",
       "148                  NaN  06-21-2020  \n",
       "\n",
       "[149 rows x 7 columns]"
      ]
     },
     "execution_count": 18,
     "metadata": {},
     "output_type": "execute_result"
    }
   ],
   "source": [
    "france_df = fc.merge_single_country_files([df1, df2, df3])\n",
    "france_df"
   ]
  },
  {
   "cell_type": "code",
   "execution_count": 19,
   "id": "658ea21d-2d06-420a-a440-821f6619dae1",
   "metadata": {},
   "outputs": [],
   "source": [
    "france_df[\"Deaths\"] = france_df[\"Deaths\"].apply(fc.impute_with_value)\n",
    "france_df[\"Recovered\"] = france_df[\"Recovered\"].apply(fc.impute_with_value)"
   ]
  },
  {
   "cell_type": "code",
   "execution_count": 20,
   "id": "306cd6d6-a3f5-4abf-93fb-f3c4ec9f2459",
   "metadata": {},
   "outputs": [],
   "source": [
    "france_df = fc.active_cases_calculation(france_df)\n",
    "france_df = fc.incident_rate_calculation(france_df, population_mln=67.5)\n",
    "france_df = fc.case_fatality_ratio_calculation(france_df)"
   ]
  },
  {
   "cell_type": "code",
   "execution_count": 21,
   "id": "281aa2d1-b5b9-4e77-9f83-50340e4018b3",
   "metadata": {},
   "outputs": [
    {
     "data": {
      "text/html": [
       "<div>\n",
       "<style scoped>\n",
       "    .dataframe tbody tr th:only-of-type {\n",
       "        vertical-align: middle;\n",
       "    }\n",
       "\n",
       "    .dataframe tbody tr th {\n",
       "        vertical-align: top;\n",
       "    }\n",
       "\n",
       "    .dataframe thead th {\n",
       "        text-align: right;\n",
       "    }\n",
       "</style>\n",
       "<table border=\"1\" class=\"dataframe\">\n",
       "  <thead>\n",
       "    <tr style=\"text-align: right;\">\n",
       "      <th></th>\n",
       "      <th>Confirmed</th>\n",
       "      <th>Deaths</th>\n",
       "      <th>Recovered</th>\n",
       "      <th>Active</th>\n",
       "      <th>Incident_Rate</th>\n",
       "      <th>Case_Fatality_Ratio</th>\n",
       "      <th>date</th>\n",
       "    </tr>\n",
       "  </thead>\n",
       "  <tbody>\n",
       "    <tr>\n",
       "      <th>0</th>\n",
       "      <td>2.0</td>\n",
       "      <td>0.0</td>\n",
       "      <td>0.0</td>\n",
       "      <td>2.0</td>\n",
       "      <td>0.002963</td>\n",
       "      <td>0.000000</td>\n",
       "      <td>01-24-2020</td>\n",
       "    </tr>\n",
       "    <tr>\n",
       "      <th>1</th>\n",
       "      <td>3.0</td>\n",
       "      <td>0.0</td>\n",
       "      <td>0.0</td>\n",
       "      <td>3.0</td>\n",
       "      <td>0.004444</td>\n",
       "      <td>0.000000</td>\n",
       "      <td>01-25-2020</td>\n",
       "    </tr>\n",
       "    <tr>\n",
       "      <th>2</th>\n",
       "      <td>3.0</td>\n",
       "      <td>0.0</td>\n",
       "      <td>0.0</td>\n",
       "      <td>3.0</td>\n",
       "      <td>0.004444</td>\n",
       "      <td>0.000000</td>\n",
       "      <td>01-26-2020</td>\n",
       "    </tr>\n",
       "    <tr>\n",
       "      <th>3</th>\n",
       "      <td>3.0</td>\n",
       "      <td>0.0</td>\n",
       "      <td>0.0</td>\n",
       "      <td>3.0</td>\n",
       "      <td>0.004444</td>\n",
       "      <td>0.000000</td>\n",
       "      <td>01-27-2020</td>\n",
       "    </tr>\n",
       "    <tr>\n",
       "      <th>4</th>\n",
       "      <td>4.0</td>\n",
       "      <td>0.0</td>\n",
       "      <td>0.0</td>\n",
       "      <td>4.0</td>\n",
       "      <td>0.005926</td>\n",
       "      <td>0.000000</td>\n",
       "      <td>01-28-2020</td>\n",
       "    </tr>\n",
       "    <tr>\n",
       "      <th>...</th>\n",
       "      <td>...</td>\n",
       "      <td>...</td>\n",
       "      <td>...</td>\n",
       "      <td>...</td>\n",
       "      <td>...</td>\n",
       "      <td>...</td>\n",
       "      <td>...</td>\n",
       "    </tr>\n",
       "    <tr>\n",
       "      <th>144</th>\n",
       "      <td>192628.0</td>\n",
       "      <td>29512.0</td>\n",
       "      <td>70223.0</td>\n",
       "      <td>92893.0</td>\n",
       "      <td>285.374815</td>\n",
       "      <td>15.320722</td>\n",
       "      <td>06-17-2020</td>\n",
       "    </tr>\n",
       "    <tr>\n",
       "      <th>145</th>\n",
       "      <td>192948.0</td>\n",
       "      <td>29540.0</td>\n",
       "      <td>70322.0</td>\n",
       "      <td>93086.0</td>\n",
       "      <td>285.848889</td>\n",
       "      <td>15.309824</td>\n",
       "      <td>06-18-2020</td>\n",
       "    </tr>\n",
       "    <tr>\n",
       "      <th>146</th>\n",
       "      <td>193493.0</td>\n",
       "      <td>29554.0</td>\n",
       "      <td>70496.0</td>\n",
       "      <td>93443.0</td>\n",
       "      <td>286.656296</td>\n",
       "      <td>15.273938</td>\n",
       "      <td>06-19-2020</td>\n",
       "    </tr>\n",
       "    <tr>\n",
       "      <th>147</th>\n",
       "      <td>193907.0</td>\n",
       "      <td>29570.0</td>\n",
       "      <td>70641.0</td>\n",
       "      <td>93696.0</td>\n",
       "      <td>287.269630</td>\n",
       "      <td>15.249578</td>\n",
       "      <td>06-20-2020</td>\n",
       "    </tr>\n",
       "    <tr>\n",
       "      <th>148</th>\n",
       "      <td>193971.0</td>\n",
       "      <td>29575.0</td>\n",
       "      <td>70661.0</td>\n",
       "      <td>93735.0</td>\n",
       "      <td>287.364444</td>\n",
       "      <td>15.247125</td>\n",
       "      <td>06-21-2020</td>\n",
       "    </tr>\n",
       "  </tbody>\n",
       "</table>\n",
       "<p>149 rows × 7 columns</p>\n",
       "</div>"
      ],
      "text/plain": [
       "     Confirmed   Deaths  Recovered   Active  Incident_Rate  \\\n",
       "0          2.0      0.0        0.0      2.0       0.002963   \n",
       "1          3.0      0.0        0.0      3.0       0.004444   \n",
       "2          3.0      0.0        0.0      3.0       0.004444   \n",
       "3          3.0      0.0        0.0      3.0       0.004444   \n",
       "4          4.0      0.0        0.0      4.0       0.005926   \n",
       "..         ...      ...        ...      ...            ...   \n",
       "144   192628.0  29512.0    70223.0  92893.0     285.374815   \n",
       "145   192948.0  29540.0    70322.0  93086.0     285.848889   \n",
       "146   193493.0  29554.0    70496.0  93443.0     286.656296   \n",
       "147   193907.0  29570.0    70641.0  93696.0     287.269630   \n",
       "148   193971.0  29575.0    70661.0  93735.0     287.364444   \n",
       "\n",
       "     Case_Fatality_Ratio        date  \n",
       "0               0.000000  01-24-2020  \n",
       "1               0.000000  01-25-2020  \n",
       "2               0.000000  01-26-2020  \n",
       "3               0.000000  01-27-2020  \n",
       "4               0.000000  01-28-2020  \n",
       "..                   ...         ...  \n",
       "144            15.320722  06-17-2020  \n",
       "145            15.309824  06-18-2020  \n",
       "146            15.273938  06-19-2020  \n",
       "147            15.249578  06-20-2020  \n",
       "148            15.247125  06-21-2020  \n",
       "\n",
       "[149 rows x 7 columns]"
      ]
     },
     "execution_count": 21,
     "metadata": {},
     "output_type": "execute_result"
    }
   ],
   "source": [
    "france_df"
   ]
  },
  {
   "cell_type": "code",
   "execution_count": 22,
   "id": "b595a98d-4ab9-45b4-9c04-ddd1bbf1fde2",
   "metadata": {},
   "outputs": [
    {
     "data": {
      "text/plain": [
       "<AxesSubplot:xlabel='date', ylabel='Confirmed'>"
      ]
     },
     "execution_count": 22,
     "metadata": {},
     "output_type": "execute_result"
    },
    {
     "data": {
      "image/png": "[encoded data removed]",
      "text/plain": [
       "<Figure size 432x288 with 1 Axes>"
      ]
     },
     "metadata": {
      "needs_background": "light"
     },
     "output_type": "display_data"
    }
   ],
   "source": [
    "sns.scatterplot(x=\"date\", y=\"Confirmed\", data=france_df)"
   ]
  },
  {
   "cell_type": "code",
   "execution_count": 23,
   "id": "c30076f0-5b49-48d5-923b-8a3f233662b7",
   "metadata": {},
   "outputs": [
    {
     "data": {
      "text/plain": [
       "<AxesSubplot:xlabel='date', ylabel='Deaths'>"
      ]
     },
     "execution_count": 23,
     "metadata": {},
     "output_type": "execute_result"
    },
    {
     "data": {
      "image/png": "[encoded data removed]",
      "text/plain": [
       "<Figure size 432x288 with 1 Axes>"
      ]
     },
     "metadata": {
      "needs_background": "light"
     },
     "output_type": "display_data"
    }
   ],
   "source": [
    "sns.scatterplot(x=\"date\", y=\"Deaths\", data=france_df)"
   ]
  },
  {
   "cell_type": "code",
   "execution_count": 24,
   "id": "1f7f3104-328c-4981-b9b0-8e37c86c4106",
   "metadata": {},
   "outputs": [
    {
     "data": {
      "text/plain": [
       "<AxesSubplot:xlabel='date', ylabel='Recovered'>"
      ]
     },
     "execution_count": 24,
     "metadata": {},
     "output_type": "execute_result"
    },
    {
     "data": {
      "image/png": "[encoded data removed]",
      "text/plain": [
       "<Figure size 432x288 with 1 Axes>"
      ]
     },
     "metadata": {
      "needs_background": "light"
     },
     "output_type": "display_data"
    }
   ],
   "source": [
    "sns.scatterplot(x=\"date\", y=\"Recovered\", data=france_df)"
   ]
  },
  {
   "cell_type": "code",
   "execution_count": 25,
   "id": "a601c5fc-50c0-4b6e-93cd-fd8dbbd98ba6",
   "metadata": {},
   "outputs": [
    {
     "data": {
      "text/plain": [
       "<AxesSubplot:xlabel='date', ylabel='Active'>"
      ]
     },
     "execution_count": 25,
     "metadata": {},
     "output_type": "execute_result"
    },
    {
     "data": {
      "image/png": "[encoded data removed]",
      "text/plain": [
       "<Figure size 432x288 with 1 Axes>"
      ]
     },
     "metadata": {
      "needs_background": "light"
     },
     "output_type": "display_data"
    }
   ],
   "source": [
    "sns.scatterplot(x=\"date\", y=\"Active\", data=france_df)"
   ]
  },
  {
   "cell_type": "code",
   "execution_count": 26,
   "id": "8f62710d-6fd9-44da-b23e-7f6bf82f0db3",
   "metadata": {},
   "outputs": [
    {
     "data": {
      "text/plain": [
       "<AxesSubplot:xlabel='date', ylabel='Incident_Rate'>"
      ]
     },
     "execution_count": 26,
     "metadata": {},
     "output_type": "execute_result"
    },
    {
     "data": {
      "image/png": "[encoded data removed]",
      "text/plain": [
       "<Figure size 432x288 with 1 Axes>"
      ]
     },
     "metadata": {
      "needs_background": "light"
     },
     "output_type": "display_data"
    }
   ],
   "source": [
    "sns.scatterplot(x=\"date\", y=\"Incident_Rate\", data=france_df)"
   ]
  },
  {
   "cell_type": "code",
   "execution_count": 27,
   "id": "39494e7e-234a-428e-ba69-edc6e59ea288",
   "metadata": {},
   "outputs": [
    {
     "data": {
      "text/plain": [
       "<AxesSubplot:xlabel='date', ylabel='Case_Fatality_Ratio'>"
      ]
     },
     "execution_count": 27,
     "metadata": {},
     "output_type": "execute_result"
    },
    {
     "data": {
      "image/png": "[encoded data removed]",
      "text/plain": [
       "<Figure size 432x288 with 1 Axes>"
      ]
     },
     "metadata": {
      "needs_background": "light"
     },
     "output_type": "display_data"
    }
   ],
   "source": [
    "sns.scatterplot(x=\"date\", y=\"Case_Fatality_Ratio\", data=france_df)"
   ]
  },
  {
   "cell_type": "code",
   "execution_count": 28,
   "id": "6a0f6e8b-452f-4ef4-b6bb-dd3d1c14525a",
   "metadata": {},
   "outputs": [
    {
     "data": {
      "image/png": "[encoded data removed]",
      "text/plain": [
       "<Figure size 432x288 with 2 Axes>"
      ]
     },
     "metadata": {
      "needs_background": "light"
     },
     "output_type": "display_data"
    }
   ],
   "source": [
    "corr = france_df.corr()\n",
    "ax = sns.heatmap(\n",
    "    corr, \n",
    "    vmin=-1, vmax=1, center=0,\n",
    "    cmap=sns.diverging_palette(20, 220, n=200),\n",
    "    annot=True,\n",
    "    square=True\n",
    ")\n",
    "ax.set_xticklabels(\n",
    "    ax.get_xticklabels(),\n",
    "    rotation=45,\n",
    "    horizontalalignment='right'\n",
    ");"
   ]
  },
  {
   "cell_type": "code",
   "execution_count": 29,
   "id": "717bcd12-6389-4a45-a5f4-f8a3d08fb815",
   "metadata": {},
   "outputs": [
    {
     "data": {
      "text/html": [
       "<div>\n",
       "<style scoped>\n",
       "    .dataframe tbody tr th:only-of-type {\n",
       "        vertical-align: middle;\n",
       "    }\n",
       "\n",
       "    .dataframe tbody tr th {\n",
       "        vertical-align: top;\n",
       "    }\n",
       "\n",
       "    .dataframe thead th {\n",
       "        text-align: right;\n",
       "    }\n",
       "</style>\n",
       "<table border=\"1\" class=\"dataframe\">\n",
       "  <thead>\n",
       "    <tr style=\"text-align: right;\">\n",
       "      <th></th>\n",
       "      <th>Confirmed</th>\n",
       "      <th>Deaths</th>\n",
       "      <th>Recovered</th>\n",
       "      <th>Active</th>\n",
       "      <th>Incident_Rate</th>\n",
       "      <th>Case_Fatality_Ratio</th>\n",
       "    </tr>\n",
       "  </thead>\n",
       "  <tbody>\n",
       "    <tr>\n",
       "      <th>Confirmed</th>\n",
       "      <td>1.000000</td>\n",
       "      <td>0.994566</td>\n",
       "      <td>0.983101</td>\n",
       "      <td>0.988825</td>\n",
       "      <td>1.000000</td>\n",
       "      <td>0.923146</td>\n",
       "    </tr>\n",
       "    <tr>\n",
       "      <th>Deaths</th>\n",
       "      <td>0.994566</td>\n",
       "      <td>1.000000</td>\n",
       "      <td>0.994216</td>\n",
       "      <td>0.969302</td>\n",
       "      <td>0.994566</td>\n",
       "      <td>0.912055</td>\n",
       "    </tr>\n",
       "    <tr>\n",
       "      <th>Recovered</th>\n",
       "      <td>0.983101</td>\n",
       "      <td>0.994216</td>\n",
       "      <td>1.000000</td>\n",
       "      <td>0.944974</td>\n",
       "      <td>0.983101</td>\n",
       "      <td>0.894936</td>\n",
       "    </tr>\n",
       "    <tr>\n",
       "      <th>Active</th>\n",
       "      <td>0.988825</td>\n",
       "      <td>0.969302</td>\n",
       "      <td>0.944974</td>\n",
       "      <td>1.000000</td>\n",
       "      <td>0.988825</td>\n",
       "      <td>0.923006</td>\n",
       "    </tr>\n",
       "    <tr>\n",
       "      <th>Incident_Rate</th>\n",
       "      <td>1.000000</td>\n",
       "      <td>0.994566</td>\n",
       "      <td>0.983101</td>\n",
       "      <td>0.988825</td>\n",
       "      <td>1.000000</td>\n",
       "      <td>0.923146</td>\n",
       "    </tr>\n",
       "    <tr>\n",
       "      <th>Case_Fatality_Ratio</th>\n",
       "      <td>0.923146</td>\n",
       "      <td>0.912055</td>\n",
       "      <td>0.894936</td>\n",
       "      <td>0.923006</td>\n",
       "      <td>0.923146</td>\n",
       "      <td>1.000000</td>\n",
       "    </tr>\n",
       "  </tbody>\n",
       "</table>\n",
       "</div>"
      ],
      "text/plain": [
       "                     Confirmed    Deaths  Recovered    Active  Incident_Rate  \\\n",
       "Confirmed             1.000000  0.994566   0.983101  0.988825       1.000000   \n",
       "Deaths                0.994566  1.000000   0.994216  0.969302       0.994566   \n",
       "Recovered             0.983101  0.994216   1.000000  0.944974       0.983101   \n",
       "Active                0.988825  0.969302   0.944974  1.000000       0.988825   \n",
       "Incident_Rate         1.000000  0.994566   0.983101  0.988825       1.000000   \n",
       "Case_Fatality_Ratio   0.923146  0.912055   0.894936  0.923006       0.923146   \n",
       "\n",
       "                     Case_Fatality_Ratio  \n",
       "Confirmed                       0.923146  \n",
       "Deaths                          0.912055  \n",
       "Recovered                       0.894936  \n",
       "Active                          0.923006  \n",
       "Incident_Rate                   0.923146  \n",
       "Case_Fatality_Ratio             1.000000  "
      ]
     },
     "execution_count": 29,
     "metadata": {},
     "output_type": "execute_result"
    }
   ],
   "source": [
    "corr"
   ]
  },
  {
   "cell_type": "code",
   "execution_count": 30,
   "id": "5fad9cb0-1690-4f0a-9f2a-1eccde4c7043",
   "metadata": {},
   "outputs": [
    {
     "data": {
      "text/plain": [
       "count       149.000000\n",
       "mean      91301.463087\n",
       "std       83018.544588\n",
       "min           2.000000\n",
       "25%         130.000000\n",
       "50%       81144.000000\n",
       "75%      178837.000000\n",
       "max      193971.000000\n",
       "Name: Confirmed, dtype: float64"
      ]
     },
     "execution_count": 30,
     "metadata": {},
     "output_type": "execute_result"
    }
   ],
   "source": [
    "france_df[\"Confirmed\"].describe()"
   ]
  },
  {
   "cell_type": "code",
   "execution_count": 31,
   "id": "0f4a5619-4e84-4151-9b8b-1e12d541a0db",
   "metadata": {},
   "outputs": [
    {
     "data": {
      "text/plain": [
       "count      149.000000\n",
       "mean     13186.570470\n",
       "std      12771.817449\n",
       "min          0.000000\n",
       "25%          2.000000\n",
       "50%      10856.000000\n",
       "75%      27485.000000\n",
       "max      29575.000000\n",
       "Name: Deaths, dtype: float64"
      ]
     },
     "execution_count": 31,
     "metadata": {},
     "output_type": "execute_result"
    }
   ],
   "source": [
    "france_df[\"Deaths\"].describe()"
   ]
  },
  {
   "cell_type": "code",
   "execution_count": 32,
   "id": "62ec6ca3-e79b-421f-aaa0-e93f4b10f7ec",
   "metadata": {},
   "outputs": [
    {
     "data": {
      "text/plain": [
       "count      149.000000\n",
       "mean     28559.651007\n",
       "std      28428.384362\n",
       "min          0.000000\n",
       "25%         12.000000\n",
       "50%      21254.000000\n",
       "75%      59142.000000\n",
       "max      70661.000000\n",
       "Name: Recovered, dtype: float64"
      ]
     },
     "execution_count": 32,
     "metadata": {},
     "output_type": "execute_result"
    }
   ],
   "source": [
    "france_df[\"Recovered\"].describe()"
   ]
  },
  {
   "cell_type": "code",
   "execution_count": 33,
   "id": "df4973a9-0512-491a-9e8e-7b2d07903f56",
   "metadata": {},
   "outputs": [
    {
     "data": {
      "text/plain": [
       "<AxesSubplot:>"
      ]
     },
     "execution_count": 33,
     "metadata": {},
     "output_type": "execute_result"
    },
    {
     "data": {
      "image/png": "[encoded data removed]",
      "text/plain": [
       "<Figure size 432x288 with 1 Axes>"
      ]
     },
     "metadata": {
      "needs_background": "light"
     },
     "output_type": "display_data"
    }
   ],
   "source": [
    "france_df[\"Recovered\"].hist()"
   ]
  },
  {
   "cell_type": "code",
   "execution_count": 34,
   "id": "1655676e-4339-4a29-ba1b-4eb3fae5e08f",
   "metadata": {},
   "outputs": [
    {
     "data": {
      "text/plain": [
       "<AxesSubplot:>"
      ]
     },
     "execution_count": 34,
     "metadata": {},
     "output_type": "execute_result"
    },
    {
     "data": {
      "image/png": "[encoded data removed]",
      "text/plain": [
       "<Figure size 432x288 with 1 Axes>"
      ]
     },
     "metadata": {
      "needs_background": "light"
     },
     "output_type": "display_data"
    }
   ],
   "source": [
    "france_df[\"Recovered\"].apply(lambda x: np.log(x + 0.00001)).hist()"
   ]
  },
  {
   "cell_type": "code",
   "execution_count": 35,
   "id": "a0664c42-c1f2-4608-9bf6-7041cdc15550",
   "metadata": {},
   "outputs": [
    {
     "data": {
      "text/plain": [
       "count      149.000000\n",
       "mean     49555.241611\n",
       "std      42846.980086\n",
       "min          2.000000\n",
       "25%        116.000000\n",
       "50%      49034.000000\n",
       "75%      92837.000000\n",
       "max      97133.000000\n",
       "Name: Active, dtype: float64"
      ]
     },
     "execution_count": 35,
     "metadata": {},
     "output_type": "execute_result"
    }
   ],
   "source": [
    "france_df[\"Active\"].describe()"
   ]
  },
  {
   "cell_type": "code",
   "execution_count": 36,
   "id": "81bfcf76-4ee5-4315-b8c2-35a79c213bd2",
   "metadata": {},
   "outputs": [
    {
     "data": {
      "text/plain": [
       "<AxesSubplot:>"
      ]
     },
     "execution_count": 36,
     "metadata": {},
     "output_type": "execute_result"
    },
    {
     "data": {
      "image/png": "[encoded data removed]",
      "text/plain": [
       "<Figure size 432x288 with 1 Axes>"
      ]
     },
     "metadata": {
      "needs_background": "light"
     },
     "output_type": "display_data"
    }
   ],
   "source": [
    "france_df[\"Active\"].hist()"
   ]
  },
  {
   "cell_type": "code",
   "execution_count": 37,
   "id": "871b53de-734e-4d92-a4ee-7fe79073d796",
   "metadata": {},
   "outputs": [
    {
     "data": {
      "text/plain": [
       "count    149.000000\n",
       "mean     135.261427\n",
       "std      122.990436\n",
       "min        0.002963\n",
       "25%        0.192593\n",
       "50%      120.213333\n",
       "75%      264.943704\n",
       "max      287.364444\n",
       "Name: Incident_Rate, dtype: float64"
      ]
     },
     "execution_count": 37,
     "metadata": {},
     "output_type": "execute_result"
    }
   ],
   "source": [
    "france_df[\"Incident_Rate\"].describe()"
   ]
  },
  {
   "cell_type": "code",
   "execution_count": 38,
   "id": "60466bbc-11d0-4774-92ed-28ea372ff200",
   "metadata": {},
   "outputs": [
    {
     "data": {
      "text/plain": [
       "<AxesSubplot:>"
      ]
     },
     "execution_count": 38,
     "metadata": {},
     "output_type": "execute_result"
    },
    {
     "data": {
      "image/png": "[encoded data removed]",
      "text/plain": [
       "<Figure size 432x288 with 1 Axes>"
      ]
     },
     "metadata": {
      "needs_background": "light"
     },
     "output_type": "display_data"
    }
   ],
   "source": [
    "france_df[\"Incident_Rate\"].hist()"
   ]
  },
  {
   "cell_type": "code",
   "execution_count": 39,
   "id": "93845469-a765-4058-80a6-7ab2811ad4aa",
   "metadata": {},
   "outputs": [
    {
     "data": {
      "text/plain": [
       "count    149.000000\n",
       "mean       9.321026\n",
       "std        6.143065\n",
       "min        0.000000\n",
       "25%        2.104340\n",
       "50%       12.123227\n",
       "75%       15.249578\n",
       "max       15.694414\n",
       "Name: Case_Fatality_Ratio, dtype: float64"
      ]
     },
     "execution_count": 39,
     "metadata": {},
     "output_type": "execute_result"
    }
   ],
   "source": [
    "france_df[\"Case_Fatality_Ratio\"].describe()"
   ]
  },
  {
   "cell_type": "code",
   "execution_count": 40,
   "id": "39d84754-5353-43ff-9653-fab57293227c",
   "metadata": {},
   "outputs": [
    {
     "data": {
      "text/plain": [
       "<AxesSubplot:>"
      ]
     },
     "execution_count": 40,
     "metadata": {},
     "output_type": "execute_result"
    },
    {
     "data": {
      "image/png": "[encoded data removed]",
      "text/plain": [
       "<Figure size 432x288 with 1 Axes>"
      ]
     },
     "metadata": {
      "needs_background": "light"
     },
     "output_type": "display_data"
    }
   ],
   "source": [
    "france_df[\"Case_Fatality_Ratio\"].hist()"
   ]
  },
  {
   "cell_type": "code",
   "execution_count": null,
   "id": "44984d7e-a53d-47e4-abd0-5a9ef549e6ed",
   "metadata": {},
   "outputs": [],
   "source": []
  }
 ],
 "metadata": {
  "kernelspec": {
   "display_name": "Python 3",
   "language": "python",
   "name": "python3"
  },
  "language_info": {
   "codemirror_mode": {
    "name": "ipython",
    "version": 3
   },
   "file_extension": ".py",
   "mimetype": "text/x-python",
   "name": "python",
   "nbconvert_exporter": "python",
   "pygments_lexer": "ipython3",
   "version": "3.6.8"
  }
 },
 "nbformat": 4,
 "nbformat_minor": 5
}
