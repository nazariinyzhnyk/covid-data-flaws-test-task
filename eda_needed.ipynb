{
 "cells": [
  {
   "cell_type": "code",
   "execution_count": 1,
   "id": "2d76e275-b4b1-4268-9140-440682f8c921",
   "metadata": {},
   "outputs": [],
   "source": [
    "import os\n",
    "\n",
    "import pandas as pd\n",
    "pd.set_option('display.max_rows', 100)\n"
   ]
  },
  {
   "cell_type": "code",
   "execution_count": 2,
   "id": "96d76228-373d-4bc2-9b23-80a5376a2061",
   "metadata": {},
   "outputs": [],
   "source": [
    "DATA_PATH = os.path.join(\"data\", \"csse_covid_19_daily_reports\")"
   ]
  },
  {
   "cell_type": "code",
   "execution_count": 3,
   "id": "96a08d9e-08b0-4583-94a5-d5782d2917f5",
   "metadata": {},
   "outputs": [],
   "source": [
    "available_files = os.listdir(DATA_PATH)"
   ]
  },
  {
   "cell_type": "code",
   "execution_count": 4,
   "id": "3369383e-fa99-4cbc-b547-1c7c41cd4fe0",
   "metadata": {},
   "outputs": [],
   "source": [
    "def key_to_sort_by_date(filename: str):\n",
    "    if filename.endswith(\".csv\"):\n",
    "        filename = filename.replace(\".csv\", \"\")\n",
    "        month, day, year = filename.split(\"-\")\n",
    "        return year+month+day\n",
    "    else:\n",
    "        return filename"
   ]
  },
  {
   "cell_type": "code",
   "execution_count": 5,
   "id": "02eac20a-9350-4ec2-83ec-677c959ce965",
   "metadata": {},
   "outputs": [
    {
     "name": "stdout",
     "output_type": "stream",
     "text": [
      "01\n",
      "21\n",
      "2022\n",
      "20220121\n"
     ]
    }
   ],
   "source": [
    "filename = \"01-21-2022.csv\"\n",
    "filename = filename.replace(\".csv\", \"\")\n",
    "month, day, year = filename.split(\"-\")\n",
    "print(month)\n",
    "print(day)\n",
    "print(year)\n",
    "print(year+month+day)"
   ]
  },
  {
   "cell_type": "code",
   "execution_count": 6,
   "id": "29285c63-4a54-4f13-9dcb-d1fe68cc7de2",
   "metadata": {},
   "outputs": [],
   "source": [
    "available_files.sort(key=lambda x: key_to_sort_by_date(x))"
   ]
  },
  {
   "cell_type": "code",
   "execution_count": 7,
   "id": "692c1b9c-21ce-425e-8fe4-4fb858d74cad",
   "metadata": {},
   "outputs": [
    {
     "data": {
      "text/plain": [
       "['.gitignore',\n",
       " '01-22-2020.csv',\n",
       " '01-23-2020.csv',\n",
       " '01-24-2020.csv',\n",
       " '01-25-2020.csv']"
      ]
     },
     "execution_count": 7,
     "metadata": {},
     "output_type": "execute_result"
    }
   ],
   "source": [
    "available_files[:5]"
   ]
  },
  {
   "cell_type": "code",
   "execution_count": 8,
   "id": "1742daef-9dd5-406d-8b26-314b99efbba3",
   "metadata": {},
   "outputs": [
    {
     "data": {
      "text/plain": [
       "['12-08-2022.csv',\n",
       " '12-09-2022.csv',\n",
       " '12-10-2022.csv',\n",
       " '12-11-2022.csv',\n",
       " 'README.md']"
      ]
     },
     "execution_count": 8,
     "metadata": {},
     "output_type": "execute_result"
    }
   ],
   "source": [
    "available_files[len(available_files) - 5:]"
   ]
  },
  {
   "cell_type": "markdown",
   "id": "ccf42ab3-c06c-42e1-8a64-09a2f3d81ce1",
   "metadata": {},
   "source": [
    "so we have data from <b>01-22-2020</b> to <b>12-08-2022</b>\n",
    "\n",
    "in this task only first 6 month needed\n",
    "\n",
    "so, lets take all the days starting <b>01-22-2020</b> and ending <b>06-22-2020</b>"
   ]
  },
  {
   "cell_type": "markdown",
   "id": "d8b6ed72-c596-49b2-81ce-b3f1ad9e8340",
   "metadata": {},
   "source": [
    "lets take a look into a single file structure"
   ]
  },
  {
   "cell_type": "code",
   "execution_count": 9,
   "id": "83397c18-ef0c-41c7-af45-9c02709ac4b4",
   "metadata": {},
   "outputs": [
    {
     "data": {
      "text/html": [
       "<div>\n",
       "<style scoped>\n",
       "    .dataframe tbody tr th:only-of-type {\n",
       "        vertical-align: middle;\n",
       "    }\n",
       "\n",
       "    .dataframe tbody tr th {\n",
       "        vertical-align: top;\n",
       "    }\n",
       "\n",
       "    .dataframe thead th {\n",
       "        text-align: right;\n",
       "    }\n",
       "</style>\n",
       "<table border=\"1\" class=\"dataframe\">\n",
       "  <thead>\n",
       "    <tr style=\"text-align: right;\">\n",
       "      <th></th>\n",
       "      <th>FIPS</th>\n",
       "      <th>Admin2</th>\n",
       "      <th>Province_State</th>\n",
       "      <th>Country_Region</th>\n",
       "      <th>Last_Update</th>\n",
       "      <th>Lat</th>\n",
       "      <th>Long_</th>\n",
       "      <th>Confirmed</th>\n",
       "      <th>Deaths</th>\n",
       "      <th>Recovered</th>\n",
       "      <th>Active</th>\n",
       "      <th>Combined_Key</th>\n",
       "      <th>Incident_Rate</th>\n",
       "      <th>Case_Fatality_Ratio</th>\n",
       "    </tr>\n",
       "  </thead>\n",
       "  <tbody>\n",
       "    <tr>\n",
       "      <th>0</th>\n",
       "      <td>NaN</td>\n",
       "      <td>NaN</td>\n",
       "      <td>NaN</td>\n",
       "      <td>Afghanistan</td>\n",
       "      <td>2022-04-23 04:20:50</td>\n",
       "      <td>33.93911</td>\n",
       "      <td>67.709953</td>\n",
       "      <td>178638</td>\n",
       "      <td>7680</td>\n",
       "      <td>NaN</td>\n",
       "      <td>NaN</td>\n",
       "      <td>Afghanistan</td>\n",
       "      <td>458.889322</td>\n",
       "      <td>4.299197</td>\n",
       "    </tr>\n",
       "    <tr>\n",
       "      <th>1</th>\n",
       "      <td>NaN</td>\n",
       "      <td>NaN</td>\n",
       "      <td>NaN</td>\n",
       "      <td>Albania</td>\n",
       "      <td>2022-04-23 04:20:50</td>\n",
       "      <td>41.15330</td>\n",
       "      <td>20.168300</td>\n",
       "      <td>274737</td>\n",
       "      <td>3496</td>\n",
       "      <td>NaN</td>\n",
       "      <td>NaN</td>\n",
       "      <td>Albania</td>\n",
       "      <td>9546.771840</td>\n",
       "      <td>1.272490</td>\n",
       "    </tr>\n",
       "    <tr>\n",
       "      <th>2</th>\n",
       "      <td>NaN</td>\n",
       "      <td>NaN</td>\n",
       "      <td>NaN</td>\n",
       "      <td>Algeria</td>\n",
       "      <td>2022-04-23 04:20:50</td>\n",
       "      <td>28.03390</td>\n",
       "      <td>1.659600</td>\n",
       "      <td>265761</td>\n",
       "      <td>6874</td>\n",
       "      <td>NaN</td>\n",
       "      <td>NaN</td>\n",
       "      <td>Algeria</td>\n",
       "      <td>606.054000</td>\n",
       "      <td>2.586535</td>\n",
       "    </tr>\n",
       "    <tr>\n",
       "      <th>3</th>\n",
       "      <td>NaN</td>\n",
       "      <td>NaN</td>\n",
       "      <td>NaN</td>\n",
       "      <td>Andorra</td>\n",
       "      <td>2022-04-23 04:20:50</td>\n",
       "      <td>42.50630</td>\n",
       "      <td>1.521800</td>\n",
       "      <td>41013</td>\n",
       "      <td>153</td>\n",
       "      <td>NaN</td>\n",
       "      <td>NaN</td>\n",
       "      <td>Andorra</td>\n",
       "      <td>53080.955154</td>\n",
       "      <td>0.373052</td>\n",
       "    </tr>\n",
       "    <tr>\n",
       "      <th>4</th>\n",
       "      <td>NaN</td>\n",
       "      <td>NaN</td>\n",
       "      <td>NaN</td>\n",
       "      <td>Angola</td>\n",
       "      <td>2022-04-23 04:20:50</td>\n",
       "      <td>-11.20270</td>\n",
       "      <td>17.873900</td>\n",
       "      <td>99287</td>\n",
       "      <td>1900</td>\n",
       "      <td>NaN</td>\n",
       "      <td>NaN</td>\n",
       "      <td>Angola</td>\n",
       "      <td>302.093928</td>\n",
       "      <td>1.913644</td>\n",
       "    </tr>\n",
       "  </tbody>\n",
       "</table>\n",
       "</div>"
      ],
      "text/plain": [
       "   FIPS Admin2 Province_State Country_Region          Last_Update       Lat  \\\n",
       "0   NaN    NaN            NaN    Afghanistan  2022-04-23 04:20:50  33.93911   \n",
       "1   NaN    NaN            NaN        Albania  2022-04-23 04:20:50  41.15330   \n",
       "2   NaN    NaN            NaN        Algeria  2022-04-23 04:20:50  28.03390   \n",
       "3   NaN    NaN            NaN        Andorra  2022-04-23 04:20:50  42.50630   \n",
       "4   NaN    NaN            NaN         Angola  2022-04-23 04:20:50 -11.20270   \n",
       "\n",
       "       Long_  Confirmed  Deaths  Recovered  Active Combined_Key  \\\n",
       "0  67.709953     178638    7680        NaN     NaN  Afghanistan   \n",
       "1  20.168300     274737    3496        NaN     NaN      Albania   \n",
       "2   1.659600     265761    6874        NaN     NaN      Algeria   \n",
       "3   1.521800      41013     153        NaN     NaN      Andorra   \n",
       "4  17.873900      99287    1900        NaN     NaN       Angola   \n",
       "\n",
       "   Incident_Rate  Case_Fatality_Ratio  \n",
       "0     458.889322             4.299197  \n",
       "1    9546.771840             1.272490  \n",
       "2     606.054000             2.586535  \n",
       "3   53080.955154             0.373052  \n",
       "4     302.093928             1.913644  "
      ]
     },
     "execution_count": 9,
     "metadata": {},
     "output_type": "execute_result"
    }
   ],
   "source": [
    "df = pd.read_csv(os.path.join(DATA_PATH, \"04-22-2022.csv\"))\n",
    "df.head(5)"
   ]
  },
  {
   "cell_type": "code",
   "execution_count": 10,
   "id": "75ef2ecc-c092-4d3a-802c-decb140702c1",
   "metadata": {},
   "outputs": [
    {
     "data": {
      "text/html": [
       "<div>\n",
       "<style scoped>\n",
       "    .dataframe tbody tr th:only-of-type {\n",
       "        vertical-align: middle;\n",
       "    }\n",
       "\n",
       "    .dataframe tbody tr th {\n",
       "        vertical-align: top;\n",
       "    }\n",
       "\n",
       "    .dataframe thead th {\n",
       "        text-align: right;\n",
       "    }\n",
       "</style>\n",
       "<table border=\"1\" class=\"dataframe\">\n",
       "  <thead>\n",
       "    <tr style=\"text-align: right;\">\n",
       "      <th></th>\n",
       "      <th>FIPS</th>\n",
       "      <th>Admin2</th>\n",
       "      <th>Province_State</th>\n",
       "      <th>Country_Region</th>\n",
       "      <th>Last_Update</th>\n",
       "      <th>Lat</th>\n",
       "      <th>Long_</th>\n",
       "      <th>Confirmed</th>\n",
       "      <th>Deaths</th>\n",
       "      <th>Recovered</th>\n",
       "      <th>Active</th>\n",
       "      <th>Combined_Key</th>\n",
       "      <th>Incident_Rate</th>\n",
       "      <th>Case_Fatality_Ratio</th>\n",
       "    </tr>\n",
       "  </thead>\n",
       "  <tbody>\n",
       "    <tr>\n",
       "      <th>4011</th>\n",
       "      <td>NaN</td>\n",
       "      <td>NaN</td>\n",
       "      <td>Unknown</td>\n",
       "      <td>Ukraine</td>\n",
       "      <td>2022-04-23 04:20:50</td>\n",
       "      <td>NaN</td>\n",
       "      <td>NaN</td>\n",
       "      <td>187600</td>\n",
       "      <td>2801</td>\n",
       "      <td>0.0</td>\n",
       "      <td>0.0</td>\n",
       "      <td>Unknown, Ukraine</td>\n",
       "      <td>0.0</td>\n",
       "      <td>0.0</td>\n",
       "    </tr>\n",
       "    <tr>\n",
       "      <th>4012</th>\n",
       "      <td>NaN</td>\n",
       "      <td>NaN</td>\n",
       "      <td>NaN</td>\n",
       "      <td>Nauru</td>\n",
       "      <td>2022-04-23 04:20:50</td>\n",
       "      <td>-0.5228</td>\n",
       "      <td>166.9315</td>\n",
       "      <td>3</td>\n",
       "      <td>0</td>\n",
       "      <td>0.0</td>\n",
       "      <td>0.0</td>\n",
       "      <td>Nauru</td>\n",
       "      <td>0.0</td>\n",
       "      <td>0.0</td>\n",
       "    </tr>\n",
       "    <tr>\n",
       "      <th>4013</th>\n",
       "      <td>NaN</td>\n",
       "      <td>NaN</td>\n",
       "      <td>Niue</td>\n",
       "      <td>New Zealand</td>\n",
       "      <td>2022-04-23 04:20:50</td>\n",
       "      <td>-19.0544</td>\n",
       "      <td>-169.8672</td>\n",
       "      <td>8</td>\n",
       "      <td>0</td>\n",
       "      <td>0.0</td>\n",
       "      <td>0.0</td>\n",
       "      <td>Niue, New Zealand</td>\n",
       "      <td>0.0</td>\n",
       "      <td>0.0</td>\n",
       "    </tr>\n",
       "    <tr>\n",
       "      <th>4014</th>\n",
       "      <td>NaN</td>\n",
       "      <td>NaN</td>\n",
       "      <td>NaN</td>\n",
       "      <td>Tuvalu</td>\n",
       "      <td>2022-04-23 04:20:50</td>\n",
       "      <td>-7.1095</td>\n",
       "      <td>177.6493</td>\n",
       "      <td>0</td>\n",
       "      <td>0</td>\n",
       "      <td>0.0</td>\n",
       "      <td>0.0</td>\n",
       "      <td>Tuvalu</td>\n",
       "      <td>0.0</td>\n",
       "      <td>0.0</td>\n",
       "    </tr>\n",
       "    <tr>\n",
       "      <th>4015</th>\n",
       "      <td>NaN</td>\n",
       "      <td>NaN</td>\n",
       "      <td>Pitcairn Islands</td>\n",
       "      <td>United Kingdom</td>\n",
       "      <td>2022-04-23 04:20:50</td>\n",
       "      <td>-24.3768</td>\n",
       "      <td>-128.3242</td>\n",
       "      <td>0</td>\n",
       "      <td>0</td>\n",
       "      <td>0.0</td>\n",
       "      <td>0.0</td>\n",
       "      <td>Pitcairn Islands, United Kingdom</td>\n",
       "      <td>0.0</td>\n",
       "      <td>0.0</td>\n",
       "    </tr>\n",
       "  </tbody>\n",
       "</table>\n",
       "</div>"
      ],
      "text/plain": [
       "      FIPS Admin2    Province_State  Country_Region          Last_Update  \\\n",
       "4011   NaN    NaN           Unknown         Ukraine  2022-04-23 04:20:50   \n",
       "4012   NaN    NaN               NaN           Nauru  2022-04-23 04:20:50   \n",
       "4013   NaN    NaN              Niue     New Zealand  2022-04-23 04:20:50   \n",
       "4014   NaN    NaN               NaN          Tuvalu  2022-04-23 04:20:50   \n",
       "4015   NaN    NaN  Pitcairn Islands  United Kingdom  2022-04-23 04:20:50   \n",
       "\n",
       "          Lat     Long_  Confirmed  Deaths  Recovered  Active  \\\n",
       "4011      NaN       NaN     187600    2801        0.0     0.0   \n",
       "4012  -0.5228  166.9315          3       0        0.0     0.0   \n",
       "4013 -19.0544 -169.8672          8       0        0.0     0.0   \n",
       "4014  -7.1095  177.6493          0       0        0.0     0.0   \n",
       "4015 -24.3768 -128.3242          0       0        0.0     0.0   \n",
       "\n",
       "                          Combined_Key  Incident_Rate  Case_Fatality_Ratio  \n",
       "4011                  Unknown, Ukraine            0.0                  0.0  \n",
       "4012                             Nauru            0.0                  0.0  \n",
       "4013                 Niue, New Zealand            0.0                  0.0  \n",
       "4014                            Tuvalu            0.0                  0.0  \n",
       "4015  Pitcairn Islands, United Kingdom            0.0                  0.0  "
      ]
     },
     "execution_count": 10,
     "metadata": {},
     "output_type": "execute_result"
    }
   ],
   "source": [
    "df.tail(5)"
   ]
  },
  {
   "cell_type": "code",
   "execution_count": null,
   "id": "75f7635b-e914-46fd-a9be-e4521312e406",
   "metadata": {},
   "outputs": [],
   "source": []
  }
 ],
 "metadata": {
  "kernelspec": {
   "display_name": "Python 3",
   "language": "python",
   "name": "python3"
  },
  "language_info": {
   "codemirror_mode": {
    "name": "ipython",
    "version": 3
   },
   "file_extension": ".py",
   "mimetype": "text/x-python",
   "name": "python",
   "nbconvert_exporter": "python",
   "pygments_lexer": "ipython3",
   "version": "3.6.8"
  }
 },
 "nbformat": 4,
 "nbformat_minor": 5
}
