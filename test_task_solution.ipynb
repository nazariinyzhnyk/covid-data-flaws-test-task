{
 "cells": [
  {
   "cell_type": "markdown",
   "id": "96a0d5d9-ffa1-43b9-9524-7562307cbcbb",
   "metadata": {},
   "source": [
    "#### TASK 1 \n",
    "\n",
    "You’re given raw data that contains many flaws. \n",
    "Please find 5 different flaws in the data and fix them. Try to find the most important flaws that require to be fixed in order to enable forecasting (task 2)"
   ]
  },
  {
   "cell_type": "code",
   "execution_count": null,
   "id": "7607178c-f9ce-4e53-a691-f5d19bb41eb2",
   "metadata": {},
   "outputs": [],
   "source": []
  },
  {
   "cell_type": "markdown",
   "id": "2614b27e-7826-48cc-bc47-127dce2048c5",
   "metadata": {},
   "source": [
    "#### TASK 2\n",
    "\n",
    "Please describe (no code is needed) what will be the process required for forecasting the future number of active patients per country."
   ]
  },
  {
   "cell_type": "code",
   "execution_count": null,
   "id": "2bfde9c6-03d7-4d80-b009-d966163d32af",
   "metadata": {},
   "outputs": [],
   "source": []
  }
 ],
 "metadata": {
  "kernelspec": {
   "display_name": "Python 3",
   "language": "python",
   "name": "python3"
  },
  "language_info": {
   "codemirror_mode": {
    "name": "ipython",
    "version": 3
   },
   "file_extension": ".py",
   "mimetype": "text/x-python",
   "name": "python",
   "nbconvert_exporter": "python",
   "pygments_lexer": "ipython3",
   "version": "3.6.8"
  }
 },
 "nbformat": 4,
 "nbformat_minor": 5
}
